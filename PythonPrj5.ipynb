{
  "nbformat": 4,
  "nbformat_minor": 0,
  "metadata": {
    "colab": {
      "name": "PythonPrj5.ipynb",
      "provenance": [],
      "authorship_tag": "ABX9TyNotibzAEMLgaBuxKhbclif",
      "include_colab_link": true
    },
    "kernelspec": {
      "name": "python3",
      "display_name": "Python 3"
    },
    "language_info": {
      "name": "python"
    }
  },
  "cells": [
    {
      "cell_type": "markdown",
      "metadata": {
        "id": "view-in-github",
        "colab_type": "text"
      },
      "source": [
        "<a href=\"https://colab.research.google.com/github/alen768/PythonProjects/blob/main/PythonPrj5.ipynb\" target=\"_parent\"><img src=\"https://colab.research.google.com/assets/colab-badge.svg\" alt=\"Open In Colab\"/></a>"
      ]
    },
    {
      "cell_type": "markdown",
      "source": [
        "# **Mean, Median & Mode**"
      ],
      "metadata": {
        "id": "mEApsjh7L343"
      }
    },
    {
      "cell_type": "code",
      "execution_count": 2,
      "metadata": {
        "colab": {
          "base_uri": "https://localhost:8080/"
        },
        "id": "9nZL3PpZL0wr",
        "outputId": "ccc8fcc0-f4bf-48a0-8aaa-21d63e12c844"
      },
      "outputs": [
        {
          "output_type": "stream",
          "name": "stdout",
          "text": [
            "20.2\n"
          ]
        }
      ],
      "source": [
        "#Mean\n",
        "list1 = [12, 16, 20, 20, 12, 30, 25, 23, 24, 20]\n",
        "mean = sum(list1)/len(list1)\n",
        "print(mean)"
      ]
    },
    {
      "cell_type": "code",
      "source": [
        "#Median\n",
        "list1 = [12, 16, 20, 20, 12, 30, 25, 23, 24, 20]\n",
        "list1.sort()\n",
        "\n",
        "if len(list1) % 2 == 0:\n",
        "  m1 = list1[len(list1) // 2]\n",
        "  m2 = list1[len(list1) // 2 - 1]\n",
        "  median = (m1 + m2)/2\n",
        "else:\n",
        "  median = list1[len(list1) + 1 //2]\n",
        "print(median)"
      ],
      "metadata": {
        "colab": {
          "base_uri": "https://localhost:8080/"
        },
        "id": "Qxcxj2vpMf5z",
        "outputId": "82ffd806-f84a-4ba3-a6d9-bde619501a09"
      },
      "execution_count": 22,
      "outputs": [
        {
          "output_type": "stream",
          "name": "stdout",
          "text": [
            "20.0\n"
          ]
        }
      ]
    },
    {
      "cell_type": "code",
      "source": [
        "#Mode\n",
        "list1 = [12, 16, 20, 20, 12, 30, 25, 23, 24, 20]\n",
        "frequency = {}\n",
        "\n",
        "for i in list1:\n",
        "  frequency.setdefault(i,0)\n",
        "  frequency[i] += 1\n",
        "\n",
        "frequent = max(frequency.values())\n",
        "\n",
        "for i, j in frequency.items():\n",
        "  if j == frequent:\n",
        "    mode = i\n",
        "print(mode)"
      ],
      "metadata": {
        "colab": {
          "base_uri": "https://localhost:8080/"
        },
        "id": "E-izRdZBNXTK",
        "outputId": "7335ccb3-bd11-460d-c17a-4b29aa3f0328"
      },
      "execution_count": 25,
      "outputs": [
        {
          "output_type": "stream",
          "name": "stdout",
          "text": [
            "20\n"
          ]
        }
      ]
    },
    {
      "cell_type": "code",
      "source": [
        ""
      ],
      "metadata": {
        "id": "hpDQRKxsSFDe"
      },
      "execution_count": null,
      "outputs": []
    }
  ]
}
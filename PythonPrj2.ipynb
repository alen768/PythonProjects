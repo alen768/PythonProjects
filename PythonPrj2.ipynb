{
  "nbformat": 4,
  "nbformat_minor": 0,
  "metadata": {
    "colab": {
      "name": "PythonPrj2.ipynb",
      "provenance": [],
      "authorship_tag": "ABX9TyN2DKQA4Zv9WzDmdupMRsOg",
      "include_colab_link": true
    },
    "kernelspec": {
      "name": "python3",
      "display_name": "Python 3"
    },
    "language_info": {
      "name": "python"
    }
  },
  "cells": [
    {
      "cell_type": "markdown",
      "metadata": {
        "id": "view-in-github",
        "colab_type": "text"
      },
      "source": [
        "<a href=\"https://colab.research.google.com/github/alen768/PythonProjects/blob/main/PythonPrj2.ipynb\" target=\"_parent\"><img src=\"https://colab.research.google.com/assets/colab-badge.svg\" alt=\"Open In Colab\"/></a>"
      ]
    },
    {
      "cell_type": "markdown",
      "source": [
        "# **Group Anagrams using Python**"
      ],
      "metadata": {
        "id": "Dsk6ttePAn-v"
      }
    },
    {
      "cell_type": "code",
      "source": [
        "from collections import defaultdict\n",
        "dfdict = defaultdict(list)\n",
        "\n",
        "def group_anagrams(a):\n",
        "  for i in a:\n",
        "    sorted_i = \"\".join(sorted(i))\n",
        "    dfdict[sorted_i].append(i)\n",
        "  return dfdict.values()"
      ],
      "metadata": {
        "id": "TPjHAENPAZ2x"
      },
      "execution_count": 21,
      "outputs": []
    },
    {
      "cell_type": "code",
      "source": [
        "words = [\"tea\", \"eat\", \"bat\", \"ate\", \"arc\", \"car\"]\n",
        "print(group_anagrams(words))"
      ],
      "metadata": {
        "colab": {
          "base_uri": "https://localhost:8080/"
        },
        "id": "Eg0ljaqsHPkf",
        "outputId": "0f4a1c43-2042-4177-c3ef-d787efa77b57"
      },
      "execution_count": 22,
      "outputs": [
        {
          "output_type": "stream",
          "name": "stdout",
          "text": [
            "dict_values([['tea', 'eat', 'ate'], ['bat'], ['arc', 'car']])\n"
          ]
        }
      ]
    },
    {
      "cell_type": "code",
      "source": [
        ""
      ],
      "metadata": {
        "id": "kc1i_GQ032M5"
      },
      "execution_count": null,
      "outputs": []
    }
  ]
}
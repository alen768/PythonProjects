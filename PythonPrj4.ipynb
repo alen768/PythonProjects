{
  "nbformat": 4,
  "nbformat_minor": 0,
  "metadata": {
    "colab": {
      "name": "PythonPrj4.ipynb",
      "provenance": [],
      "authorship_tag": "ABX9TyMnHNgFhmYsQwDAhzVyXa0u",
      "include_colab_link": true
    },
    "kernelspec": {
      "name": "python3",
      "display_name": "Python 3"
    },
    "language_info": {
      "name": "python"
    }
  },
  "cells": [
    {
      "cell_type": "markdown",
      "metadata": {
        "id": "view-in-github",
        "colab_type": "text"
      },
      "source": [
        "<a href=\"https://colab.research.google.com/github/alen768/PythonProjects/blob/main/PythonPrj4.ipynb\" target=\"_parent\"><img src=\"https://colab.research.google.com/assets/colab-badge.svg\" alt=\"Open In Colab\"/></a>"
      ]
    },
    {
      "cell_type": "markdown",
      "source": [
        "# **Group Elements of Same Index**"
      ],
      "metadata": {
        "id": "83EvrN8LH6YL"
      }
    },
    {
      "cell_type": "code",
      "execution_count": 5,
      "metadata": {
        "colab": {
          "base_uri": "https://localhost:8080/"
        },
        "id": "oFLvOq5MHx2F",
        "outputId": "ef249ac6-4211-4387-fefb-87f26e222358"
      },
      "outputs": [
        {
          "output_type": "stream",
          "name": "stdout",
          "text": [
            "[10, 40, 70] [20, 50, 80] [30, 60, 90]\n"
          ]
        }
      ],
      "source": [
        "inputList = [[10,20,30], [40,50,60], [70,80,90]]\n",
        "outputlist = []\n",
        "index = 0\n",
        "\n",
        "for i in range(len(inputList[0])):\n",
        "  outputlist.append([])\n",
        "  for j in range(len(inputList)):\n",
        "    outputlist[index].append(inputList[j][index])\n",
        "  index = index + 1\n",
        "\n",
        "a,b,c = outputlist[0], outputlist[1], outputlist[2]\n",
        "print(a,b,c)"
      ]
    },
    {
      "cell_type": "code",
      "source": [
        ""
      ],
      "metadata": {
        "id": "Q6oM-v4NIzk9"
      },
      "execution_count": null,
      "outputs": []
    }
  ]
}
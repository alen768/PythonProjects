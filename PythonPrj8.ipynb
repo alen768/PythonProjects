{
  "nbformat": 4,
  "nbformat_minor": 0,
  "metadata": {
    "colab": {
      "name": "PythonPrj8.ipynb",
      "provenance": [],
      "authorship_tag": "ABX9TyPv7e1etMlnDYIZqTHb7atp",
      "include_colab_link": true
    },
    "kernelspec": {
      "name": "python3",
      "display_name": "Python 3"
    },
    "language_info": {
      "name": "python"
    }
  },
  "cells": [
    {
      "cell_type": "markdown",
      "metadata": {
        "id": "view-in-github",
        "colab_type": "text"
      },
      "source": [
        "<a href=\"https://colab.research.google.com/github/alen768/PythonProjects/blob/main/PythonPrj8.ipynb\" target=\"_parent\"><img src=\"https://colab.research.google.com/assets/colab-badge.svg\" alt=\"Open In Colab\"/></a>"
      ]
    },
    {
      "cell_type": "markdown",
      "source": [
        "# Rock Paper Scissors Game"
      ],
      "metadata": {
        "id": "I_wv9zXaV1nm"
      }
    },
    {
      "cell_type": "code",
      "execution_count": 1,
      "metadata": {
        "colab": {
          "base_uri": "https://localhost:8080/"
        },
        "id": "Ia5Ijrw5VyGI",
        "outputId": "f4b996ec-8851-4c5e-83c6-ecc2a31d65c0"
      },
      "outputs": [
        {
          "output_type": "stream",
          "name": "stdout",
          "text": [
            "Select Rock, Paper or Scissor : paper\n",
            "Player 2 chose :  ROCK\n",
            "Player 1 WON\n"
          ]
        }
      ],
      "source": [
        "import random\n",
        "\n",
        "player1 = input(\"Select Rock, Paper or Scissor : \").upper()\n",
        "player2 = random.choice([\"ROCK\", \"PAPER\", \"SCISSOR\"])\n",
        "print(\"Player 2 chose : \", player2)\n",
        "\n",
        "if player1 == 'ROCK' and player2 =='PAPER':\n",
        "  print(\"Player 2 WON\")\n",
        "elif player1 == 'PAPER' and player2 == 'SCISSOR':\n",
        "  print(\"Player 2 WON\")\n",
        "elif player1 == 'SCISSOR' and player2 == 'ROCK':\n",
        "  print(\"Player 2 WON\")\n",
        "elif player1 == player2:\n",
        "  print(\"Draw\")\n",
        "else:\n",
        "  print(\"Player 1 WON\")"
      ]
    },
    {
      "cell_type": "code",
      "source": [
        ""
      ],
      "metadata": {
        "id": "rzvf9o07XzUq"
      },
      "execution_count": null,
      "outputs": []
    }
  ]
}
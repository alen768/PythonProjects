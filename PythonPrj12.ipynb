{
  "nbformat": 4,
  "nbformat_minor": 0,
  "metadata": {
    "colab": {
      "name": "PythonPrj12.ipynb",
      "provenance": [],
      "authorship_tag": "ABX9TyOyaGnPqVBT5LQVYjJJFe4P"
    },
    "kernelspec": {
      "name": "python3",
      "display_name": "Python 3"
    },
    "language_info": {
      "name": "python"
    }
  },
  "cells": [
    {
      "cell_type": "markdown",
      "source": [
        "# Reversing a string"
      ],
      "metadata": {
        "id": "fc8oidfMYx-B"
      }
    },
    {
      "cell_type": "code",
      "execution_count": 3,
      "metadata": {
        "colab": {
          "base_uri": "https://localhost:8080/"
        },
        "id": "IqOcyGNfYpUS",
        "outputId": "f9a894f5-1e73-4a04-8f6f-f330efe702ee"
      },
      "outputs": [
        {
          "output_type": "stream",
          "name": "stdout",
          "text": [
            "Enter a word : Alen G\n",
            "G nelA\n"
          ]
        }
      ],
      "source": [
        "def reverse_string(word):\n",
        "  return word[::-1]\n",
        "\n",
        "a = str(input('Enter a word : '))\n",
        "print(reverse_string(a))"
      ]
    },
    {
      "cell_type": "code",
      "source": [
        ""
      ],
      "metadata": {
        "id": "b7CNIC2-ZNI6"
      },
      "execution_count": null,
      "outputs": []
    }
  ]
}
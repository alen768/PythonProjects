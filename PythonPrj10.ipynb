{
  "nbformat": 4,
  "nbformat_minor": 0,
  "metadata": {
    "colab": {
      "name": "PythonPrj10.ipynb",
      "provenance": [],
      "authorship_tag": "ABX9TyM455kAokjHb0U7pVLHbKn3",
      "include_colab_link": true
    },
    "kernelspec": {
      "name": "python3",
      "display_name": "Python 3"
    },
    "language_info": {
      "name": "python"
    }
  },
  "cells": [
    {
      "cell_type": "markdown",
      "metadata": {
        "id": "view-in-github",
        "colab_type": "text"
      },
      "source": [
        "<a href=\"https://colab.research.google.com/github/alen768/PythonProjects/blob/main/PythonPrj10.ipynb\" target=\"_parent\"><img src=\"https://colab.research.google.com/assets/colab-badge.svg\" alt=\"Open In Colab\"/></a>"
      ]
    },
    {
      "cell_type": "markdown",
      "source": [
        "# Checking the spelling"
      ],
      "metadata": {
        "id": "KhFA7cBDcIsd"
      }
    },
    {
      "cell_type": "code",
      "execution_count": 1,
      "metadata": {
        "colab": {
          "base_uri": "https://localhost:8080/"
        },
        "id": "wZ9jB8k5b5jj",
        "outputId": "e1941032-2084-4f0c-e2c0-d2baacf25d13"
      },
      "outputs": [
        {
          "output_type": "stream",
          "name": "stdout",
          "text": [
            "Looking in indexes: https://pypi.org/simple, https://us-python.pkg.dev/colab-wheels/public/simple/\n",
            "Collecting pyspellchecker\n",
            "  Downloading pyspellchecker-0.6.3-py3-none-any.whl (2.7 MB)\n",
            "\u001b[K     |████████████████████████████████| 2.7 MB 8.7 MB/s \n",
            "\u001b[?25hInstalling collected packages: pyspellchecker\n",
            "Successfully installed pyspellchecker-0.6.3\n"
          ]
        }
      ],
      "source": [
        "pip install pyspellchecker"
      ]
    },
    {
      "cell_type": "code",
      "source": [
        "from spellchecker import SpellChecker\n",
        "corrector = SpellChecker()\n",
        "\n",
        "word = input(\"Enter a word : \")\n",
        "if word in corrector:\n",
        "  print(\"Correct\")\n",
        "else:\n",
        "  correct_word = corrector.correction(word)\n",
        "  print(\"\\n\\\"Error : Wrong Spelling\\\"\")\n",
        "  print(\"\\nCorrect word is : \", correct_word)"
      ],
      "metadata": {
        "colab": {
          "base_uri": "https://localhost:8080/"
        },
        "id": "5mskbUuzcUEe",
        "outputId": "d3105ad6-9db0-40f4-bcd3-98a39868f261"
      },
      "execution_count": 14,
      "outputs": [
        {
          "output_type": "stream",
          "name": "stdout",
          "text": [
            "Enter a word : spellng\n",
            "\n",
            "\"Error : Wrong Spelling\"\n",
            "\n",
            "Correct word is :  spelling\n"
          ]
        }
      ]
    },
    {
      "cell_type": "code",
      "source": [
        ""
      ],
      "metadata": {
        "id": "gbxTgK5fdHQG"
      },
      "execution_count": null,
      "outputs": []
    }
  ]
}
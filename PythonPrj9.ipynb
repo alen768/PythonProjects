{
  "nbformat": 4,
  "nbformat_minor": 0,
  "metadata": {
    "colab": {
      "name": "PythonPrj9.ipynb",
      "provenance": [],
      "authorship_tag": "ABX9TyNoB7/gxPoYfIZ7T8hpBOdD",
      "include_colab_link": true
    },
    "kernelspec": {
      "name": "python3",
      "display_name": "Python 3"
    },
    "language_info": {
      "name": "python"
    }
  },
  "cells": [
    {
      "cell_type": "markdown",
      "metadata": {
        "id": "view-in-github",
        "colab_type": "text"
      },
      "source": [
        "<a href=\"https://colab.research.google.com/github/alen768/PythonProjects/blob/main/PythonPrj9.ipynb\" target=\"_parent\"><img src=\"https://colab.research.google.com/assets/colab-badge.svg\" alt=\"Open In Colab\"/></a>"
      ]
    },
    {
      "cell_type": "markdown",
      "source": [
        "# Printing emojis"
      ],
      "metadata": {
        "id": "HIFwR9RHZCvi"
      }
    },
    {
      "cell_type": "code",
      "execution_count": 1,
      "metadata": {
        "colab": {
          "base_uri": "https://localhost:8080/"
        },
        "id": "1BNrlwhXZApU",
        "outputId": "13ff47fe-38b1-4025-e569-95cd41ba282f"
      },
      "outputs": [
        {
          "output_type": "stream",
          "name": "stdout",
          "text": [
            "Looking in indexes: https://pypi.org/simple, https://us-python.pkg.dev/colab-wheels/public/simple/\n",
            "Collecting emoji\n",
            "  Downloading emoji-2.0.0.tar.gz (197 kB)\n",
            "\u001b[K     |████████████████████████████████| 197 kB 14.2 MB/s \n",
            "\u001b[?25hBuilding wheels for collected packages: emoji\n",
            "  Building wheel for emoji (setup.py) ... \u001b[?25l\u001b[?25hdone\n",
            "  Created wheel for emoji: filename=emoji-2.0.0-py3-none-any.whl size=193022 sha256=bf3fe29318550d586f04981046fd68d940dbd4144c7870d78d6b34aa46faaa89\n",
            "  Stored in directory: /root/.cache/pip/wheels/ec/29/4d/3cfe7452ac7d8d83b1930f8a6205c3c9649b24e80f9029fc38\n",
            "Successfully built emoji\n",
            "Installing collected packages: emoji\n",
            "Successfully installed emoji-2.0.0\n"
          ]
        }
      ],
      "source": [
        "pip install emoji"
      ]
    },
    {
      "cell_type": "code",
      "source": [
        "import emoji\n",
        "\n",
        "print(emoji.emojize(\"\\\"One must always be careful of books :books:,\\\" said Tessa,\\\"and what is inside them, \\nfor words have the power to change us.\\\"\\n\\t― Cassandra Clare, Clockwork Angel\"))\n",
        "print(emoji.emojize(\"\\n\\nSome people have a very sensitive heart :red_heart:, please be kind with them.\"))"
      ],
      "metadata": {
        "colab": {
          "base_uri": "https://localhost:8080/"
        },
        "id": "LFd_QQ9UZJ7n",
        "outputId": "cc11ddd8-bf45-41aa-91a5-c42c50475ced"
      },
      "execution_count": 12,
      "outputs": [
        {
          "output_type": "stream",
          "name": "stdout",
          "text": [
            "\"One must always be careful of books 📚,\" said Tessa,\"and what is inside them, \n",
            "for words have the power to change us.\"\n",
            "\t― Cassandra Clare, Clockwork Angel\n",
            "\n",
            "\n",
            "Some people have a very sensitive heart ❤️, please be kind with them \n"
          ]
        }
      ]
    },
    {
      "cell_type": "code",
      "source": [
        ""
      ],
      "metadata": {
        "id": "jN5Ktl-wZ6u8"
      },
      "execution_count": null,
      "outputs": []
    }
  ]
}
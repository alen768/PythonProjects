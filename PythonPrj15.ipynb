{
  "nbformat": 4,
  "nbformat_minor": 0,
  "metadata": {
    "colab": {
      "name": "PythonPrj15.ipynb",
      "provenance": [],
      "authorship_tag": "ABX9TyMuzsWAxqyXsPfK9VxIJEAM"
    },
    "kernelspec": {
      "name": "python3",
      "display_name": "Python 3"
    },
    "language_info": {
      "name": "python"
    }
  },
  "cells": [
    {
      "cell_type": "markdown",
      "source": [
        "# **Scrape Table from a Website**"
      ],
      "metadata": {
        "id": "2aUBwX49e_6A"
      }
    },
    {
      "cell_type": "code",
      "execution_count": 4,
      "metadata": {
        "colab": {
          "base_uri": "https://localhost:8080/"
        },
        "id": "bABlC2Ree4tD",
        "outputId": "6770fa74-5c80-45ad-9eec-a00753c36210"
      },
      "outputs": [
        {
          "output_type": "stream",
          "name": "stdout",
          "text": [
            "    Websites Popularity(unique visitors per month)[1]  Front-end(Client-side)  \\\n",
            "0  Google[2]                               1500000000  JavaScript, TypeScript   \n",
            "1   Facebook                               1120000000              JavaScript   \n",
            "2    YouTube                               1100000000  JavaScript, TypeScript   \n",
            "3      Yahoo                                750000000              JavaScript   \n",
            "4       Etsy      516,000,000 (Total, not unique)[15]              JavaScript   \n",
            "\n",
            "                               Back-end(Server-side)  \\\n",
            "0                  C, C++, Go,[3] Java, Python, Node   \n",
            "1  Hack, PHP (HHVM), Python, C++, Java, Erlang, D...   \n",
            "2                  C, C++, Python, Java, [11] Go[12]   \n",
            "3                                                PHP   \n",
            "4                                        PHP[16][17]   \n",
            "\n",
            "                                     Database  \\\n",
            "0                     Bigtable,[4] MariaDB[5]   \n",
            "1     MariaDB, MySQL,[9] HBase, Cassandra[10]   \n",
            "2            Vitess, BigTable, MariaDB[5][13]   \n",
            "3  PostgreSQL, HBase, Cassandra, MongoDB,[14]   \n",
            "4                            MySQL, Redis[18]   \n",
            "\n",
            "                                               Notes  \n",
            "0           The most used search engine in the world  \n",
            "1            The most visited social networking site  \n",
            "2  The most popular video sharing site [YouTube i...  \n",
            "3                                                NaN  \n",
            "4                                E-commerce website.  \n"
          ]
        }
      ],
      "source": [
        "import urllib.request\n",
        "import pandas as pd\n",
        "url = \"https://en.wikipedia.org/wiki/Programming_languages_used_in_most_popular_websites\"\n",
        "\n",
        "with urllib.request.urlopen(url) as i:\n",
        "  html = i.read()\n",
        "\n",
        "data = pd.read_html(html)[0]\n",
        "print(data.head())"
      ]
    },
    {
      "cell_type": "code",
      "source": [
        "#to save the file as CSV\n",
        "# data.to_csv(\"Scrapper.csv\")"
      ],
      "metadata": {
        "id": "e7Si03jMgQaN"
      },
      "execution_count": 5,
      "outputs": []
    },
    {
      "cell_type": "code",
      "source": [
        ""
      ],
      "metadata": {
        "id": "fuWL5M__gmVS"
      },
      "execution_count": null,
      "outputs": []
    }
  ]
}
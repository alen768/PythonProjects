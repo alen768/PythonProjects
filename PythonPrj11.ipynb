{
  "nbformat": 4,
  "nbformat_minor": 0,
  "metadata": {
    "colab": {
      "name": "PythonPrj11.ipynb",
      "provenance": [],
      "authorship_tag": "ABX9TyO9uZ8uw8IG7zOaSV2flXmv"
    },
    "kernelspec": {
      "name": "python3",
      "display_name": "Python 3"
    },
    "language_info": {
      "name": "python"
    }
  },
  "cells": [
    {
      "cell_type": "markdown",
      "source": [
        "# Scraping GitHub profile"
      ],
      "metadata": {
        "id": "ekyfuLPGdOT7"
      }
    },
    {
      "cell_type": "code",
      "execution_count": 1,
      "metadata": {
        "colab": {
          "base_uri": "https://localhost:8080/"
        },
        "id": "6cs2YGs9dKk5",
        "outputId": "c0dc90c1-13d6-40b3-b1f5-6b4c6b1ba98a"
      },
      "outputs": [
        {
          "output_type": "stream",
          "name": "stdout",
          "text": [
            "Looking in indexes: https://pypi.org/simple, https://us-python.pkg.dev/colab-wheels/public/simple/\n",
            "Requirement already satisfied: beautifulsoup4 in /usr/local/lib/python3.7/dist-packages (4.6.3)\n"
          ]
        }
      ],
      "source": [
        "pip install beautifulsoup4"
      ]
    },
    {
      "cell_type": "code",
      "source": [
        "import requests\n",
        "from bs4 import BeautifulSoup as bs\n",
        "\n",
        "github_profile = \"https://github.com/alen768\"\n",
        "req = requests.get(github_profile)\n",
        "scraper = bs(req.content, \"html.parser\")\n",
        "profile_picture = scraper.find(\"img\", {\"alt\" : \"Avatar\"})[\"src\"]\n",
        "print(profile_picture)"
      ],
      "metadata": {
        "colab": {
          "base_uri": "https://localhost:8080/"
        },
        "id": "TS60oO3ldcdz",
        "outputId": "d9bf5b70-bdd6-4a9c-e02a-f5652fa20c8b"
      },
      "execution_count": 2,
      "outputs": [
        {
          "output_type": "stream",
          "name": "stdout",
          "text": [
            "https://avatars.githubusercontent.com/u/94851137?v=4\n"
          ]
        }
      ]
    },
    {
      "cell_type": "code",
      "source": [
        ""
      ],
      "metadata": {
        "id": "dVjrbXGwgDpM"
      },
      "execution_count": null,
      "outputs": []
    }
  ]
}
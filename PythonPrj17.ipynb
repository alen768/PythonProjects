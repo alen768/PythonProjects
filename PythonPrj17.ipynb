{
  "nbformat": 4,
  "nbformat_minor": 0,
  "metadata": {
    "colab": {
      "name": "PythonPrj17.ipynb",
      "provenance": [],
      "authorship_tag": "ABX9TyMMdjTN8mHiJeVnAn/ZQ7Ov"
    },
    "kernelspec": {
      "name": "python3",
      "display_name": "Python 3"
    },
    "language_info": {
      "name": "python"
    }
  },
  "cells": [
    {
      "cell_type": "markdown",
      "source": [
        "# **Sequence Matcher**"
      ],
      "metadata": {
        "id": "3MgBa0L-oaAU"
      }
    },
    {
      "cell_type": "code",
      "execution_count": 13,
      "metadata": {
        "colab": {
          "base_uri": "https://localhost:8080/"
        },
        "id": "CCdMq5ypoOl4",
        "outputId": "a9bacda5-7f32-439e-8d44-362af75d31d0"
      },
      "outputs": [
        {
          "output_type": "stream",
          "name": "stdout",
          "text": [
            "Both texts are 90.19607843137256 % similar\n"
          ]
        }
      ],
      "source": [
        "from difflib import SequenceMatcher\n",
        "txt1 = \"Let us find the similarities between 2 sentences\"\n",
        "txt2 = \"Hello, Let's find the similarities between 2 sentences\"\n",
        "sequenceScore = SequenceMatcher(None, txt1, txt2).ratio()\n",
        "print(f\"Both texts are { sequenceScore * 100 } % similar\")"
      ]
    },
    {
      "cell_type": "code",
      "source": [
        "txt1 = \"Let us find the similarities in text\"\n",
        "txt2 = \"Similarities are found using SequenceMatcher\"\n",
        "sequenceScore = SequenceMatcher(None, txt1, txt2).ratio()\n",
        "print(f\"There is { sequenceScore * 100 } % similarity between text 1 and 2\")"
      ],
      "metadata": {
        "colab": {
          "base_uri": "https://localhost:8080/"
        },
        "id": "t7PQrfbXpPWt",
        "outputId": "1bc5cd41-f4f1-4c28-bf7a-19c6f560b446"
      },
      "execution_count": 14,
      "outputs": [
        {
          "output_type": "stream",
          "name": "stdout",
          "text": [
            "There is 42.5 % similarity between text 1 and 2\n"
          ]
        }
      ]
    },
    {
      "cell_type": "code",
      "source": [
        ""
      ],
      "metadata": {
        "id": "rEfbJYILqYJs"
      },
      "execution_count": null,
      "outputs": []
    }
  ]
}
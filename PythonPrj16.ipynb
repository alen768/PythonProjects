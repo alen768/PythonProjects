{
  "nbformat": 4,
  "nbformat_minor": 0,
  "metadata": {
    "colab": {
      "name": "PythonPrj16.ipynb",
      "provenance": [],
      "authorship_tag": "ABX9TyP4wscqZTmnpKU449bXbMzT"
    },
    "kernelspec": {
      "name": "python3",
      "display_name": "Python 3"
    },
    "language_info": {
      "name": "python"
    }
  },
  "cells": [
    {
      "cell_type": "markdown",
      "source": [
        "# **Extract Text from a PDF**"
      ],
      "metadata": {
        "id": "2tqxwqIXhYky"
      }
    },
    {
      "cell_type": "code",
      "execution_count": 1,
      "metadata": {
        "colab": {
          "base_uri": "https://localhost:8080/"
        },
        "id": "7UrX26i5g_6l",
        "outputId": "681bf9e6-6d91-41dd-c55b-93b7a2ad44ce"
      },
      "outputs": [
        {
          "output_type": "stream",
          "name": "stdout",
          "text": [
            "Looking in indexes: https://pypi.org/simple, https://us-python.pkg.dev/colab-wheels/public/simple/\n",
            "Collecting pypdf2\n",
            "  Downloading PyPDF2-2.10.0-py3-none-any.whl (208 kB)\n",
            "\u001b[K     |████████████████████████████████| 208 kB 8.6 MB/s \n",
            "\u001b[?25hRequirement already satisfied: typing-extensions in /usr/local/lib/python3.7/dist-packages (from pypdf2) (4.1.1)\n",
            "Installing collected packages: pypdf2\n",
            "Successfully installed pypdf2-2.10.0\n"
          ]
        }
      ],
      "source": [
        "pip install pypdf2"
      ]
    },
    {
      "cell_type": "code",
      "source": [
        "import PyPDF2\n",
        "pdf = open(\"Getting started.pdf\", \"rb\")\n",
        "reader = PyPDF2.PdfFileReader(pdf)\n",
        "page = reader.getPage(0)\n",
        "print(page.extractText())"
      ],
      "metadata": {
        "colab": {
          "base_uri": "https://localhost:8080/"
        },
        "id": "WYWz1q20hf31",
        "outputId": "406459f0-2ea5-4889-ce3e-844c87aac2bc"
      },
      "execution_count": 19,
      "outputs": [
        {
          "output_type": "stream",
          "name": "stdout",
          "text": [
            "Every ﬁle in Drive becomes available on all your otherdevices—automatically.Access anywhereAdd any ﬁle you want to keepsafe with the  button: photos, documents, and everything else.Store safelyGet ﬁles from your Mac or PC into Drive using the desktop app. Download it at g.co/getdrive.Sync seamlessly\n",
            "Give others access to any ﬁle orfolder with the button. Files are kept private by default.Share easily\n",
            "\n"
          ]
        }
      ]
    },
    {
      "cell_type": "code",
      "source": [
        ""
      ],
      "metadata": {
        "id": "f-qFOtonif3a"
      },
      "execution_count": null,
      "outputs": []
    }
  ]
}
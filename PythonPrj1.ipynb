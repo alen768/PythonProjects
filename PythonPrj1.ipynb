{
  "nbformat": 4,
  "nbformat_minor": 0,
  "metadata": {
    "colab": {
      "name": "PythonPrj1.ipynb",
      "provenance": [],
      "collapsed_sections": [],
      "authorship_tag": "ABX9TyP5q++8JDpSZ+S3ZrBEbzRu",
      "include_colab_link": true
    },
    "kernelspec": {
      "name": "python3",
      "display_name": "Python 3"
    },
    "language_info": {
      "name": "python"
    }
  },
  "cells": [
    {
      "cell_type": "markdown",
      "metadata": {
        "id": "view-in-github",
        "colab_type": "text"
      },
      "source": [
        "<a href=\"https://colab.research.google.com/github/alen768/PythonProjects/blob/main/PythonPrj1.ipynb\" target=\"_parent\"><img src=\"https://colab.research.google.com/assets/colab-badge.svg\" alt=\"Open In Colab\"/></a>"
      ]
    },
    {
      "cell_type": "markdown",
      "source": [
        "# **Number Guessing Game**"
      ],
      "metadata": {
        "id": "2oTcFVQz1Cb_"
      }
    },
    {
      "cell_type": "code",
      "source": [
        "import random\n",
        "n = random.randrange(1,10)\n",
        "guess = int(input(\"Enter any value : \"))\n",
        "while n != guess:\n",
        "  if guess < n:\n",
        "    print(\"Too Low\")\n",
        "    guess = int(input(\"Enter number agian : \"))\n",
        "  if guess > n:\n",
        "    print(\"Too High\")\n",
        "    guess = int(input(\"Enter number agian : \"))\n",
        "  else:\n",
        "    break\n",
        "print(\"You guessed it right\")"
      ],
      "metadata": {
        "colab": {
          "base_uri": "https://localhost:8080/"
        },
        "id": "eU-qMsA61Rch",
        "outputId": "90457a9b-9239-4911-abca-d226e5967bcb"
      },
      "execution_count": 3,
      "outputs": [
        {
          "output_type": "stream",
          "name": "stdout",
          "text": [
            "Enter any value : 1\n",
            "Too Low\n",
            "Enter number agian : 10\n",
            "Too High\n",
            "Enter number agian : 7\n",
            "Too High\n",
            "Enter number agian : 5\n",
            "Too Low\n",
            "Enter number agian : 6\n",
            "You guessed it right\n"
          ]
        }
      ]
    },
    {
      "cell_type": "code",
      "source": [
        ""
      ],
      "metadata": {
        "id": "g0MsTUNV6lzb"
      },
      "execution_count": null,
      "outputs": []
    }
  ]
}
{
  "nbformat": 4,
  "nbformat_minor": 0,
  "metadata": {
    "colab": {
      "name": "PythonPrj3.ipynb",
      "provenance": [],
      "authorship_tag": "ABX9TyNFmHtymcKMkBz3dHp2NZ9K",
      "include_colab_link": true
    },
    "kernelspec": {
      "name": "python3",
      "display_name": "Python 3"
    },
    "language_info": {
      "name": "python"
    }
  },
  "cells": [
    {
      "cell_type": "markdown",
      "metadata": {
        "id": "view-in-github",
        "colab_type": "text"
      },
      "source": [
        "<a href=\"https://colab.research.google.com/github/alen768/PythonProjects/blob/main/PythonPrj3.ipynb\" target=\"_parent\"><img src=\"https://colab.research.google.com/assets/colab-badge.svg\" alt=\"Open In Colab\"/></a>"
      ]
    },
    {
      "cell_type": "markdown",
      "source": [
        "# Missing number in an Array"
      ],
      "metadata": {
        "id": "AUqnx00h8D7_"
      }
    },
    {
      "cell_type": "code",
      "execution_count": 16,
      "metadata": {
        "id": "haxoPffC5pJg"
      },
      "outputs": [],
      "source": [
        "def MissingNumber(n):\n",
        "  number = set(n)\n",
        "  length = len(n)\n",
        "  output = []\n",
        "  for i in range(1, length + 1):\n",
        "    if i not in number:\n",
        "      output.append(i)\n",
        "  return output"
      ]
    },
    {
      "cell_type": "code",
      "source": [
        "x = [1,2,3,5,7,8,9]\n",
        "a = MissingNumber(x)\n",
        "print(a)"
      ],
      "metadata": {
        "colab": {
          "base_uri": "https://localhost:8080/"
        },
        "id": "lmBZBQdUETOP",
        "outputId": "ff97f2ce-8e93-4f9a-8cd0-8e1a0eb332be"
      },
      "execution_count": 17,
      "outputs": [
        {
          "output_type": "stream",
          "name": "stdout",
          "text": [
            "[4, 6]\n"
          ]
        }
      ]
    },
    {
      "cell_type": "code",
      "source": [
        ""
      ],
      "metadata": {
        "id": "5HXDM8rCFAhu"
      },
      "execution_count": null,
      "outputs": []
    }
  ]
}
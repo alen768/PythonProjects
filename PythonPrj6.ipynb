{
  "nbformat": 4,
  "nbformat_minor": 0,
  "metadata": {
    "colab": {
      "name": "PythonPrj6.ipynb",
      "provenance": [],
      "authorship_tag": "ABX9TyNtvQdim99K7wNu/30mXuoT",
      "include_colab_link": true
    },
    "kernelspec": {
      "name": "python3",
      "display_name": "Python 3"
    },
    "language_info": {
      "name": "python"
    }
  },
  "cells": [
    {
      "cell_type": "markdown",
      "metadata": {
        "id": "view-in-github",
        "colab_type": "text"
      },
      "source": [
        "<a href=\"https://colab.research.google.com/github/alen768/PythonProjects/blob/main/PythonPrj6.ipynb\" target=\"_parent\"><img src=\"https://colab.research.google.com/assets/colab-badge.svg\" alt=\"Open In Colab\"/></a>"
      ]
    },
    {
      "cell_type": "markdown",
      "source": [
        "# Calculating the execution time"
      ],
      "metadata": {
        "id": "A2uPiTPPPKD4"
      }
    },
    {
      "cell_type": "code",
      "execution_count": 7,
      "metadata": {
        "colab": {
          "base_uri": "https://localhost:8080/"
        },
        "id": "om3QSQnONZSO",
        "outputId": "ae32313b-268f-4024-f5a1-80d24be643f7"
      },
      "outputs": [
        {
          "output_type": "stream",
          "name": "stdout",
          "text": [
            "The acronym is :   AI \n",
            "\n",
            "Execution Time :  0.00028061866760253906\n"
          ]
        }
      ],
      "source": [
        "from time import time\n",
        "\n",
        "start = time()\n",
        "\n",
        "#python program for finding acronym\n",
        "word = \"Artificial Intelligence\"\n",
        "text = word.split()\n",
        "a = \" \"\n",
        "for i in text:\n",
        "  a = a + str(i[0]).upper()\n",
        "print(\"The acronym is : \", a, '\\n')\n",
        "\n",
        "stop = time()\n",
        "execution_time = stop - start\n",
        "print(\"Execution Time : \", execution_time)\n"
      ]
    },
    {
      "cell_type": "code",
      "source": [
        ""
      ],
      "metadata": {
        "id": "TwWKmjIEPs7t"
      },
      "execution_count": null,
      "outputs": []
    }
  ]
}
{
  "nbformat": 4,
  "nbformat_minor": 0,
  "metadata": {
    "colab": {
      "name": "PythonPrj7.ipynb",
      "provenance": [],
      "authorship_tag": "ABX9TyMTCm2fSyRxtDle6Zc8F+Sx",
      "include_colab_link": true
    },
    "kernelspec": {
      "name": "python3",
      "display_name": "Python 3"
    },
    "language_info": {
      "name": "python"
    }
  },
  "cells": [
    {
      "cell_type": "markdown",
      "metadata": {
        "id": "view-in-github",
        "colab_type": "text"
      },
      "source": [
        "<a href=\"https://colab.research.google.com/github/alen768/PythonProjects/blob/main/PythonPrj7.ipynb\" target=\"_parent\"><img src=\"https://colab.research.google.com/assets/colab-badge.svg\" alt=\"Open In Colab\"/></a>"
      ]
    },
    {
      "cell_type": "markdown",
      "source": [
        "# Counting number of Words in a column"
      ],
      "metadata": {
        "id": "C9DJ0ZhyTJsV"
      }
    },
    {
      "cell_type": "code",
      "execution_count": 1,
      "metadata": {
        "colab": {
          "base_uri": "https://localhost:8080/"
        },
        "id": "hjzcV_SsRI-W",
        "outputId": "8891d307-a466-4e67-ff89-a0fe6c6b436c"
      },
      "outputs": [
        {
          "output_type": "stream",
          "name": "stdout",
          "text": [
            "                                             Article  \\\n",
            "0  Data analysis is the process of inspecting and...   \n",
            "1  The performance of a machine learning algorith...   \n",
            "2  You must have seen the news divided into categ...   \n",
            "3  When there are only two classes in a classific...   \n",
            "4  The Multinomial Naive Bayes is one of the vari...   \n",
            "\n",
            "                                               Title  \n",
            "0                  Best Books to Learn Data Analysis  \n",
            "1         Assumptions of Machine Learning Algorithms  \n",
            "2          News Classification with Machine Learning  \n",
            "3  Multiclass Classification Algorithms in Machin...  \n",
            "4        Multinomial Naive Bayes in Machine Learning  \n"
          ]
        }
      ],
      "source": [
        "import pandas as pd\n",
        "data = pd.read_csv(\"https://raw.githubusercontent.com/amankharwal/Website-data/master/articles.csv\", encoding = 'latin1')\n",
        "print(data.head())"
      ]
    },
    {
      "cell_type": "code",
      "source": [
        "data['Number of words in Article'] = data['Article'].apply(lambda n: len(n.split()))\n",
        "data['Number of words in Title'] = data['Title'].apply(lambda n : len(n.split()))\n",
        "print(data.head())"
      ],
      "metadata": {
        "colab": {
          "base_uri": "https://localhost:8080/"
        },
        "id": "O0JRIw18UVHb",
        "outputId": "e6334cee-cb97-4102-b1a7-c367ff08be50"
      },
      "execution_count": 2,
      "outputs": [
        {
          "output_type": "stream",
          "name": "stdout",
          "text": [
            "                                             Article  \\\n",
            "0  Data analysis is the process of inspecting and...   \n",
            "1  The performance of a machine learning algorith...   \n",
            "2  You must have seen the news divided into categ...   \n",
            "3  When there are only two classes in a classific...   \n",
            "4  The Multinomial Naive Bayes is one of the vari...   \n",
            "\n",
            "                                               Title  \\\n",
            "0                  Best Books to Learn Data Analysis   \n",
            "1         Assumptions of Machine Learning Algorithms   \n",
            "2          News Classification with Machine Learning   \n",
            "3  Multiclass Classification Algorithms in Machin...   \n",
            "4        Multinomial Naive Bayes in Machine Learning   \n",
            "\n",
            "   Number of words in Article  Number of words in Title  \n",
            "0                          76                         6  \n",
            "1                          56                         5  \n",
            "2                          70                         5  \n",
            "3                          66                         6  \n",
            "4                          96                         6  \n"
          ]
        }
      ]
    },
    {
      "cell_type": "code",
      "source": [
        ""
      ],
      "metadata": {
        "id": "-HIGjUxZUtXi"
      },
      "execution_count": 2,
      "outputs": []
    }
  ]
}